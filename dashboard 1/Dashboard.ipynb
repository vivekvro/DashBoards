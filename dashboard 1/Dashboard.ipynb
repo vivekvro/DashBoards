{
 "cells": [
  {
   "cell_type": "code",
   "execution_count": 7,
   "id": "40cea6c7-364a-41e6-9002-62b103d989fe",
   "metadata": {},
   "outputs": [
    {
     "name": "stdout",
     "output_type": "stream",
     "text": [
      "---------------------------------------------------------------------------\n",
      "TypeError                                 Traceback (most recent call last)\n",
      "TypeError: can only concatenate str (not \"list\") to str\n",
      "\n"
     ]
    },
    {
     "data": {
      "text/html": [
       "\n",
       "        <iframe\n",
       "            width=\"100%\"\n",
       "            height=\"650\"\n",
       "            src=\"http://127.0.0.1:8050/\"\n",
       "            frameborder=\"0\"\n",
       "            allowfullscreen\n",
       "            \n",
       "        ></iframe>\n",
       "        "
      ],
      "text/plain": [
       "<IPython.lib.display.IFrame at 0x20b294a85f0>"
      ]
     },
     "metadata": {},
     "output_type": "display_data"
    },
    {
     "name": "stdout",
     "output_type": "stream",
     "text": [
      "---------------------------------------------------------------------------\n",
      "TypeError                                 Traceback (most recent call last)\n",
      "TypeError: can only concatenate str (not \"list\") to str\n",
      "\n"
     ]
    }
   ],
   "source": [
    "import pandas as pd\n",
    "from dash import Input,Output,Dash,html,dcc,callback\n",
    "import plotly.express as px \n",
    "import plotly.graph_objects as go\n",
    "\n",
    "css = \"https://cdn.jsdelivr.net/npm/bootstrap@5.3.3/dist/css/bootstrap.min.css\"\n",
    "app = Dash(name=\"Dashboard 1\",external_stylesheets=css)\n",
    "\n",
    "df_population = pd.read_csv(\"Indian_Population.csv\")\n",
    "df_aq = pd.read_csv(\"Air-Quality-Maps-2023-Averaged.csv\")\n",
    "df_power = pd.read_csv(\"state-UT-wise-power-consumption.csv\")\n",
    "\n",
    "population_df= pd.DataFrame()\n",
    "population_df[['State/UT','Estimated Population','Rural Population (%)','Urban Population (%)']] = df_population[['State/UT','Estimated Population (2021)','Rural Population (%)','Urban Population (%)']]\n",
    "power_df = pd.DataFrame()\n",
    "power_df[['State','GeoCap_MW','AllocCap_MW','SolarCap_MW','Gen_MU','PeakDem_MW','PeakDemDate','ElecSales_MU','ATCLoss_%','Gap_RsPerKWh']] = df_power[['State/UT','Installed Capacity*(Geographical location based) (in MW)','Installed Capacity*(Including Allocated Shares in Joint & Central Sector Utilities) (in MW)','Rooftop Solar Capacity (in MW)', 'Generation (in MU)','Peak Demand (in MW)', 'Peak Demand Date', 'Electricity Sales (in MU)','AT&C Losses (in %)', 'ACS-ARR (Electricity Sales) Gap (in Rs./kWh)']]\n",
    "aq_df= df_aq[['States/Ut','NO2 (in μg/m³)','SO2 (in μg/m³)','PM10 (in μg/m³)','PM2.5 (in μg/m³)']]\n",
    "\n",
    "def Populaton_chart(variable='Estimated Population'):\n",
    "    if variable=='Urban & Rural Population (%)':\n",
    "        sorted_pop = population_df.sort_values(by='Rural Population (%)',ascending=False)\n",
    "        fig = px.bar(sorted_pop,x='State/UT',y=['Rural Population (%)','Urban Population (%)'],color='State/UT',title=\"{}\".format(variable),text_auto=True)\n",
    "        fig.update_layout(paper_bgcolor=\"#e5ecf6\", height=600)\n",
    "        return fig\n",
    "    else :\n",
    "        sorted_pop = population_df.sort_values(by='Estimated Population',ascending=False)\n",
    "        fig = px.bar(sorted_pop,x='State/UT',y='Estimated Population',color='State/UT',title=\"{}\".format(variable),text_auto=True)\n",
    "        fig.update_layout(paper_bgcolor=\"#e5ecf6\", height=600)\n",
    "        return fig\n",
    "\n",
    "def air_chart(variable='NO2 (in μg/m³)'):\n",
    "    sort_aq = aq_df.sort_values(by=variable,ascending=False)\n",
    "    fig = px.bar(sort_aq,x='States/Ut',y=variable,color='States/Ut',title=\"{}\".format(variable),text_auto=True)\n",
    "    fig.update_layout(paper_bgcolor='#e5ecf6',height=600)\n",
    "    return fig\n",
    "\n",
    "def power_chart(variable='PeakDem_MW'):\n",
    "    sort_power = power_df.sort_values(by=variable,ascending=False)\n",
    "    fig = px.bar(sort_power,x=\"State\",y=variable,title=\"{} chart\".format(variable),color='State'.format(variable),text_auto=True)\n",
    "    fig.update_layout(paper_bgcolor='#e5ecf6',height=600)\n",
    "    return fig\n",
    "\n",
    "def datasets_show(variable='Energy'):\n",
    "    df = aq_df if variable == 'Air Quality' else (population_df if variable == 'Population' else power_df)\n",
    "    fig = go.Figure(\n",
    "        data=[go.Table(\n",
    "            header=dict(values=df.columns, align='left'),\n",
    "            cells=dict(values=[df[col][:100] for col in df.columns], align='left')  # Limit to 100 rows\n",
    "        )]\n",
    "    )\n",
    "    return fig\n",
    "\n",
    "pop_s=['Estimated Population','Urban & Rural Population (%)']\n",
    "p_s=['GeoCap_MW','AllocCap_MW','SolarCap_MW','Gen_MU','PeakDem_MW','PeakDemDate','ElecSales_MU', 'ATCLoss_%','Gap_RsPerKWh']\n",
    "air_s=['NO2 (in μg/m³)','SO2 (in μg/m³)','PM10 (in μg/m³)','PM2.5 (in μg/m³)']\n",
    "ds_s=['Energy','Air Quality','Population']\n",
    "\n",
    "pop = dcc.Dropdown(id='pop_dd',options=pop_s,\n",
    "                   value='Estimated Population',clearable=False)\n",
    "\n",
    "aq = dcc.Dropdown(id='aq_dd',options=air_s,\n",
    "                  value='NO2 (in μg/m³)',clearable=False)\n",
    "\n",
    "power = dcc.Dropdown(id='power_dd',options=p_s,\n",
    "                     value='PeakDem_MW',clearable=False)\n",
    "\n",
    "datasets = dcc.Dropdown(id='ds_dd',options=ds_s,\n",
    "                        value='Energy',clearable=False)\n",
    "\n",
    "app.layout = html.Div([\n",
    "    html.Div([\n",
    "        html.H1(\"India 2023 Data Analysis\",className='text-center fw-bold m-2'),\n",
    "        html.Br(),\n",
    "        dcc.Tabs([\n",
    "            \n",
    "            dcc.Tab([html.Br(),datasets,html.Br(),                     \n",
    "                     dcc.Graph(id='dataset',figure=datasets_show())],label=\"DataSets\"),\n",
    "            dcc.Tab([html.Br(),pop,html.Br(),\n",
    "                     dcc.Graph(id='population',figure=Populaton_chart())],label=\"Population\"),\n",
    "            dcc.Tab([html.Br(),aq,html.Br(),\n",
    "                     dcc.Graph(id='air',figure=air_chart())],label=\"Air Quality\"),\n",
    "            dcc.Tab([html.Br(),power,html.Br(),\n",
    "                     dcc.Graph(id='pwr',figure=power_chart())],label=\"Energy\")\n",
    "        ])\n",
    "    ],className=\"col-8 mx-auto\")\n",
    "], style={\"background-color\": \"#e5ecf6\", \"height\": \"100vh\"})\n",
    "\n",
    "@callback(Output(\"dataset\",\"figure\"),[Input('ds_dd','value')])\n",
    "def update_ds(variable):\n",
    "    return datasets_show(variable)\n",
    "\n",
    "@callback(Output(\"population\",'figure'),[Input('pop_dd','value')])\n",
    "def update_pop(variable):\n",
    "    return Populaton_chart(variable)\n",
    "\n",
    "@callback(Output(\"air\",'figure'),[Input('aq_dd','value')])\n",
    "def update_air(variable):\n",
    "    return air_chart(variable)\n",
    "\n",
    "@callback(Output(\"pwr\",'figure'),[Input(\"power_dd\",\"value\")])\n",
    "def update_pwd(variable):\n",
    "    return power_chart(variable)\n",
    "\n",
    "if __name__ == \"__main__\":\n",
    "    app.run(debug=True)"
   ]
  },
  {
   "cell_type": "code",
   "execution_count": null,
   "id": "f4cff4e8-8fc2-4b47-a06a-008f0effa7ab",
   "metadata": {},
   "outputs": [],
   "source": []
  },
  {
   "cell_type": "code",
   "execution_count": null,
   "id": "063b9e01-6910-4ced-89a4-d8b046ae1ab5",
   "metadata": {},
   "outputs": [],
   "source": []
  }
 ],
 "metadata": {
  "kernelspec": {
   "display_name": "Python 3 (ipykernel)",
   "language": "python",
   "name": "python3"
  },
  "language_info": {
   "codemirror_mode": {
    "name": "ipython",
    "version": 3
   },
   "file_extension": ".py",
   "mimetype": "text/x-python",
   "name": "python",
   "nbconvert_exporter": "python",
   "pygments_lexer": "ipython3",
   "version": "3.12.4"
  }
 },
 "nbformat": 4,
 "nbformat_minor": 5
}
